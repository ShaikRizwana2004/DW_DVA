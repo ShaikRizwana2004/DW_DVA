{
  "nbformat": 4,
  "nbformat_minor": 0,
  "metadata": {
    "colab": {
      "provenance": [],
      "authorship_tag": "ABX9TyM+T294kRWptOdASp0fPt/t",
      "include_colab_link": true
    },
    "kernelspec": {
      "name": "python3",
      "display_name": "Python 3"
    },
    "language_info": {
      "name": "python"
    }
  },
  "cells": [
    {
      "cell_type": "markdown",
      "metadata": {
        "id": "view-in-github",
        "colab_type": "text"
      },
      "source": [
        "<a href=\"https://colab.research.google.com/github/ShaikRizwana2004/DW_DVA/blob/main/Untitled2.ipynb\" target=\"_parent\"><img src=\"https://colab.research.google.com/assets/colab-badge.svg\" alt=\"Open In Colab\"/></a>"
      ]
    },
    {
      "cell_type": "code",
      "execution_count": null,
      "metadata": {
        "id": "HpORMtL-afOJ",
        "colab": {
          "base_uri": "https://localhost:8080/"
        },
        "outputId": "efbf76fc-d360-4cc7-d99f-4b0630ced175"
      },
      "outputs": [
        {
          "output_type": "stream",
          "name": "stdout",
          "text": [
            "{2: 4, 4: 16, 6: 36, 8: 64}\n"
          ]
        }
      ],
      "source": [
        "#list comprehension\n",
        "seq=[1,2,3,4,5,6,7,8,9]\n",
        "comp={i:i**2 for i in seq if i%2==0}\n",
        "print(comp)"
      ]
    },
    {
      "cell_type": "code",
      "source": [
        "d={\"rizzu\":2,\"janu\":3,3:\"noushii\"}\n",
        "print(d[\"rizzu\"])\n",
        "print(d[3])\n"
      ],
      "metadata": {
        "colab": {
          "base_uri": "https://localhost:8080/"
        },
        "id": "Wjx-rLmEecY5",
        "outputId": "ec323c37-56d8-4279-9865-caedd968489e"
      },
      "execution_count": null,
      "outputs": [
        {
          "output_type": "stream",
          "name": "stdout",
          "text": [
            "2\n",
            "noushii\n"
          ]
        }
      ]
    },
    {
      "cell_type": "code",
      "source": [
        "s=set()\n",
        "s.add(1)\n",
        "print(s)\n",
        "s1=set()\n",
        "print(s1)"
      ],
      "metadata": {
        "colab": {
          "base_uri": "https://localhost:8080/"
        },
        "id": "Ju9kQLLEfBdq",
        "outputId": "645e008d-8896-4518-cd09-5fed447656a5"
      },
      "execution_count": null,
      "outputs": [
        {
          "output_type": "stream",
          "name": "stdout",
          "text": [
            "{1}\n",
            "set()\n"
          ]
        }
      ]
    },
    {
      "cell_type": "code",
      "source": [
        "def product(*args):\n",
        "  print(type(args))\n",
        "  res=1\n",
        "  for i in args:\n",
        "     res*=i\n",
        "  return res\n",
        "print(product(1,2,4,5,3))\n"
      ],
      "metadata": {
        "colab": {
          "base_uri": "https://localhost:8080/"
        },
        "id": "zSTm-PFDf1sH",
        "outputId": "60acc459-9092-4910-a5d4-6574ed70a30a"
      },
      "execution_count": null,
      "outputs": [
        {
          "output_type": "stream",
          "name": "stdout",
          "text": [
            "<class 'tuple'>\n",
            "120\n"
          ]
        }
      ]
    },
    {
      "cell_type": "code",
      "source": [
        "t1=1,2,3,4,5\n",
        "print(type(t1))\n",
        "print(t1[2])"
      ],
      "metadata": {
        "colab": {
          "base_uri": "https://localhost:8080/"
        },
        "id": "QhaDFZbVhUIt",
        "outputId": "6b837168-6293-4b45-f286-7371803e0879"
      },
      "execution_count": null,
      "outputs": [
        {
          "output_type": "stream",
          "name": "stdout",
          "text": [
            "<class 'tuple'>\n",
            "3\n"
          ]
        }
      ]
    },
    {
      "cell_type": "code",
      "source": [
        "s1={1,5,5,5,6,6,7,8,9}\n",
        "print(s1)"
      ],
      "metadata": {
        "colab": {
          "base_uri": "https://localhost:8080/"
        },
        "id": "3McM0p46hmh2",
        "outputId": "59b83418-2720-4ba7-8939-c0db6282ae86"
      },
      "execution_count": null,
      "outputs": [
        {
          "output_type": "stream",
          "name": "stdout",
          "text": [
            "{1, 5, 6, 7, 8, 9}\n"
          ]
        }
      ]
    },
    {
      "cell_type": "code",
      "source": [
        "#function to sum of digits untill 1 digit\n",
        "def digitalSum(n):\n",
        "   s=str(n)\n",
        "   sum=0\n",
        "   for i in s:\n",
        "      sum+=int(i)\n",
        "   if(len(s)==1):\n",
        "      return sum\n",
        "   return digitalSum(sum)\n",
        "print(digitalSum(12345))"
      ],
      "metadata": {
        "id": "2tmL7HLqiLWr"
      },
      "execution_count": null,
      "outputs": []
    },
    {
      "cell_type": "code",
      "source": [
        "#fibo th number\n",
        "n=int(input(\"enter the number\"))\n",
        "a=0\n",
        "b=1\n",
        "l=[0,0]\n",
        "for i in range(n-1):\n",
        "   c=a+b\n",
        "   a=b\n",
        "   b=c\n",
        "   l.append(c)\n",
        "print(l[n-1])"
      ],
      "metadata": {
        "id": "itI9V0rqr2Vy",
        "colab": {
          "base_uri": "https://localhost:8080/"
        },
        "outputId": "2801c9d8-eaa4-48fd-d44e-b5bfa1a835da"
      },
      "execution_count": 11,
      "outputs": [
        {
          "output_type": "stream",
          "name": "stdout",
          "text": [
            "enter the number5\n",
            "3\n"
          ]
        }
      ]
    },
    {
      "cell_type": "code",
      "source": [
        "def fib(n):\n",
        "  if n==0:\n",
        "    return 0\n",
        "  if n==1:\n",
        "    return 1\n",
        "  return fib(n-1)+fib(n-2)\n",
        "print(fib(5))"
      ],
      "metadata": {
        "id": "413YDc2HvbV1"
      },
      "execution_count": null,
      "outputs": []
    },
    {
      "cell_type": "code",
      "source": [
        "s=(\"1234\")\n",
        "print(list(s))"
      ],
      "metadata": {
        "id": "nhIknDTKlva3"
      },
      "execution_count": null,
      "outputs": []
    }
  ]
}