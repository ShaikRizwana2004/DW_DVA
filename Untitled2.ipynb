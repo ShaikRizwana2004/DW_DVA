{
  "nbformat": 4,
  "nbformat_minor": 0,
  "metadata": {
    "colab": {
      "provenance": [],
      "authorship_tag": "ABX9TyMZw8MpDfmci4sEXWQM/0oq",
      "include_colab_link": true
    },
    "kernelspec": {
      "name": "python3",
      "display_name": "Python 3"
    },
    "language_info": {
      "name": "python"
    }
  },
  "cells": [
    {
      "cell_type": "markdown",
      "metadata": {
        "id": "view-in-github",
        "colab_type": "text"
      },
      "source": [
        "<a href=\"https://colab.research.google.com/github/ShaikRizwana2004/DW_DVA/blob/main/Untitled2.ipynb\" target=\"_parent\"><img src=\"https://colab.research.google.com/assets/colab-badge.svg\" alt=\"Open In Colab\"/></a>"
      ]
    },
    {
      "cell_type": "code",
      "execution_count": 14,
      "metadata": {
        "id": "HpORMtL-afOJ",
        "colab": {
          "base_uri": "https://localhost:8080/"
        },
        "outputId": "efbf76fc-d360-4cc7-d99f-4b0630ced175"
      },
      "outputs": [
        {
          "output_type": "stream",
          "name": "stdout",
          "text": [
            "{2: 4, 4: 16, 6: 36, 8: 64}\n"
          ]
        }
      ],
      "source": [
        "#list comprehension\n",
        "seq=[1,2,3,4,5,6,7,8,9]\n",
        "comp={i:i**2 for i in seq if i%2==0}\n",
        "print(comp)"
      ]
    },
    {
      "cell_type": "code",
      "source": [],
      "metadata": {
        "id": "Wjx-rLmEecY5"
      },
      "execution_count": null,
      "outputs": []
    }
  ]
}