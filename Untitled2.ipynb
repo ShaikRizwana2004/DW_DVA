{
  "nbformat": 4,
  "nbformat_minor": 0,
  "metadata": {
    "colab": {
      "provenance": [],
      "authorship_tag": "ABX9TyMm3yp+MQn+Z/xvUZ58lVgI",
      "include_colab_link": true
    },
    "kernelspec": {
      "name": "python3",
      "display_name": "Python 3"
    },
    "language_info": {
      "name": "python"
    }
  },
  "cells": [
    {
      "cell_type": "markdown",
      "metadata": {
        "id": "view-in-github",
        "colab_type": "text"
      },
      "source": [
        "<a href=\"https://colab.research.google.com/github/ShaikRizwana2004/DW_DVA/blob/main/Untitled2.ipynb\" target=\"_parent\"><img src=\"https://colab.research.google.com/assets/colab-badge.svg\" alt=\"Open In Colab\"/></a>"
      ]
    },
    {
      "cell_type": "code",
      "execution_count": 14,
      "metadata": {
        "id": "HpORMtL-afOJ",
        "colab": {
          "base_uri": "https://localhost:8080/"
        },
        "outputId": "efbf76fc-d360-4cc7-d99f-4b0630ced175"
      },
      "outputs": [
        {
          "output_type": "stream",
          "name": "stdout",
          "text": [
            "{2: 4, 4: 16, 6: 36, 8: 64}\n"
          ]
        }
      ],
      "source": [
        "#list comprehension\n",
        "seq=[1,2,3,4,5,6,7,8,9]\n",
        "comp={i:i**2 for i in seq if i%2==0}\n",
        "print(comp)"
      ]
    },
    {
      "cell_type": "code",
      "source": [
        "d={\"rizzu\":2,\"janu\":3,3:\"noushii\"}\n",
        "print(d[\"rizzu\"])\n",
        "print(d[3])\n"
      ],
      "metadata": {
        "colab": {
          "base_uri": "https://localhost:8080/"
        },
        "id": "Wjx-rLmEecY5",
        "outputId": "ec323c37-56d8-4279-9865-caedd968489e"
      },
      "execution_count": 22,
      "outputs": [
        {
          "output_type": "stream",
          "name": "stdout",
          "text": [
            "2\n",
            "noushii\n"
          ]
        }
      ]
    },
    {
      "cell_type": "code",
      "source": [
        "s=set()\n",
        "s.add(1)\n",
        "print(s)"
      ],
      "metadata": {
        "colab": {
          "base_uri": "https://localhost:8080/"
        },
        "id": "Ju9kQLLEfBdq",
        "outputId": "ba9a5acf-2da1-4e0f-9c23-835deff8e6eb"
      },
      "execution_count": 27,
      "outputs": [
        {
          "output_type": "stream",
          "name": "stdout",
          "text": [
            "{1}\n"
          ]
        }
      ]
    },
    {
      "cell_type": "code",
      "source": [
        "def product(*args):\n",
        "  res=1\n",
        "  for i in args:\n",
        "     res*=i\n",
        "  return res\n",
        "print(product(1,2,4,5,3))\n"
      ],
      "metadata": {
        "colab": {
          "base_uri": "https://localhost:8080/"
        },
        "id": "zSTm-PFDf1sH",
        "outputId": "8d9880d6-6a3a-4f70-e6fa-b5705c475c19"
      },
      "execution_count": 36,
      "outputs": [
        {
          "output_type": "stream",
          "name": "stdout",
          "text": [
            "120\n"
          ]
        }
      ]
    }
  ]
}