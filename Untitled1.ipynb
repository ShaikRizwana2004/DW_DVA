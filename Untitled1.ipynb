{
  "nbformat": 4,
  "nbformat_minor": 0,
  "metadata": {
    "colab": {
      "provenance": [],
      "authorship_tag": "ABX9TyMqIPEr2/jKl3CPDdE+UFgZ",
      "include_colab_link": true
    },
    "kernelspec": {
      "name": "python3",
      "display_name": "Python 3"
    },
    "language_info": {
      "name": "python"
    }
  },
  "cells": [
    {
      "cell_type": "markdown",
      "metadata": {
        "id": "view-in-github",
        "colab_type": "text"
      },
      "source": [
        "<a href=\"https://colab.research.google.com/github/ShaikRizwana2004/DW_DVA/blob/main/Untitled1.ipynb\" target=\"_parent\"><img src=\"https://colab.research.google.com/assets/colab-badge.svg\" alt=\"Open In Colab\"/></a>"
      ]
    },
    {
      "cell_type": "code",
      "execution_count": 9,
      "metadata": {
        "colab": {
          "base_uri": "https://localhost:8080/"
        },
        "id": "PCCzUf61da6S",
        "outputId": "52ba237c-124a-4eb7-df7a-d1e570705b81"
      },
      "outputs": [
        {
          "output_type": "stream",
          "name": "stdout",
          "text": [
            "enter the wordaaaaaaa\n",
            "longest prefix and suffix is aaa\n"
          ]
        }
      ],
      "source": [
        "#longesr prefix and suffix\n",
        "word=input(\"enter the word\")#abcdabc\n",
        "long_pre_suf=\"\"\n",
        "for i in range(1,len(word)//2+1):\n",
        "    prefix=word[:i]\n",
        "    if(word.endswith(prefix)):\n",
        "        long_pre_suf=prefix#abc\n",
        "print(\"longest prefix and suffix is\",long_pre_suf)"
      ]
    },
    {
      "cell_type": "code",
      "source": [],
      "metadata": {
        "id": "HW1gB6Ibgwxf"
      },
      "execution_count": null,
      "outputs": []
    },
    {
      "cell_type": "code",
      "source": [
        "#longesr prefix and suffix\n",
        "word=input(\"enter the word\")#abcdabc\n",
        "long_pre_suf=\"\"\n",
        "if word==word[::-1]:\n",
        "    long_pre_suf=word\n",
        "else:\n",
        "   for i in range(len(word)//2+1,0,-1):\n",
        "      prefix=word[:i]#ab\n",
        "      if(word.endswith(prefix)):\n",
        "         long_pre_suf=prefix#abc\n",
        "print(\"longest prefix and suffix is\",long_pre_suf)"
      ],
      "metadata": {
        "colab": {
          "base_uri": "https://localhost:8080/"
        },
        "id": "RQ-4oJHie0WE",
        "outputId": "349892df-2b45-4280-c92f-2dbeefa79098"
      },
      "execution_count": 14,
      "outputs": [
        {
          "output_type": "stream",
          "name": "stdout",
          "text": [
            "enter the wordaaaaa\n",
            "longest prefix and suffix is aaaaa\n"
          ]
        }
      ]
    },
    {
      "cell_type": "code",
      "source": [],
      "metadata": {
        "id": "zxzHAdYBhGDH"
      },
      "execution_count": null,
      "outputs": []
    },
    {
      "cell_type": "code",
      "source": [],
      "metadata": {
        "id": "hVnsOYo-fmf9"
      },
      "execution_count": null,
      "outputs": []
    }
  ]
}