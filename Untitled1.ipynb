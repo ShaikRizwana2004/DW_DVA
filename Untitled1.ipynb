{
  "nbformat": 4,
  "nbformat_minor": 0,
  "metadata": {
    "colab": {
      "provenance": [],
      "authorship_tag": "ABX9TyNFJMHcyd2orSlA/H/NK6vk",
      "include_colab_link": true
    },
    "kernelspec": {
      "name": "python3",
      "display_name": "Python 3"
    },
    "language_info": {
      "name": "python"
    }
  },
  "cells": [
    {
      "cell_type": "markdown",
      "metadata": {
        "id": "view-in-github",
        "colab_type": "text"
      },
      "source": [
        "<a href=\"https://colab.research.google.com/github/ShaikRizwana2004/DW_DVA/blob/main/Untitled1.ipynb\" target=\"_parent\"><img src=\"https://colab.research.google.com/assets/colab-badge.svg\" alt=\"Open In Colab\"/></a>"
      ]
    },
    {
      "cell_type": "code",
      "execution_count": 9,
      "metadata": {
        "colab": {
          "base_uri": "https://localhost:8080/"
        },
        "id": "PCCzUf61da6S",
        "outputId": "52ba237c-124a-4eb7-df7a-d1e570705b81"
      },
      "outputs": [
        {
          "output_type": "stream",
          "name": "stdout",
          "text": [
            "enter the wordaaaaaaa\n",
            "longest prefix and suffix is aaa\n"
          ]
        }
      ],
      "source": [
        "#longesr prefix and suffix\n",
        "word=input(\"enter the word\")#abcdabc\n",
        "long_pre_suf=\"\"\n",
        "for i in range(1,len(word)//2+1):\n",
        "    prefix=word[:i]\n",
        "    if(word.endswith(prefix)):\n",
        "        long_pre_suf=prefix#abc\n",
        "print(\"longest prefix and suffix is\",long_pre_suf)"
      ]
    },
    {
      "cell_type": "code",
      "source": [],
      "metadata": {
        "id": "HW1gB6Ibgwxf"
      },
      "execution_count": null,
      "outputs": []
    },
    {
      "cell_type": "code",
      "source": [
        "#longesr prefix and suffix\n",
        "word=input(\"enter the word\")#abcdabc\n",
        "long_pre_suf=\"\"\n",
        "if word==word[::-1]:\n",
        "    long_pre_suf=word\n",
        "else:\n",
        "   for i in range(len(word)//2+1,0,-1):\n",
        "      prefix=word[:i]#ab\n",
        "      if(word.endswith(prefix)):\n",
        "         long_pre_suf=prefix#abc\n",
        "print(\"longest prefix and suffix is\",long_pre_suf)"
      ],
      "metadata": {
        "colab": {
          "base_uri": "https://localhost:8080/"
        },
        "id": "RQ-4oJHie0WE",
        "outputId": "349892df-2b45-4280-c92f-2dbeefa79098"
      },
      "execution_count": 14,
      "outputs": [
        {
          "output_type": "stream",
          "name": "stdout",
          "text": [
            "enter the wordaaaaa\n",
            "longest prefix and suffix is aaaaa\n"
          ]
        }
      ]
    },
    {
      "cell_type": "code",
      "source": [
        "#paliondrome\n",
        "word=input(\"enter a word\")\n",
        "start=0\n",
        "flag=0\n",
        "end=len(word)-1\n",
        "while(start<=end):\n",
        "   if(word[start]!=word[end]):\n",
        "      flag=false\n",
        "      break\n",
        "   start+=1\n",
        "   end-=1\n",
        "if(flag):\n",
        "   print(\"palindrome\")\n",
        "else:\n",
        "   print(\"not a palindrome\")"
      ],
      "metadata": {
        "id": "zxzHAdYBhGDH"
      },
      "execution_count": null,
      "outputs": []
    },
    {
      "cell_type": "code",
      "source": [],
      "metadata": {
        "id": "NPzcLEiVrfGM"
      },
      "execution_count": null,
      "outputs": []
    },
    {
      "cell_type": "code",
      "source": [
        "text=input()\n",
        "words=text.split()\n",
        "hard=0\n",
        "easy=0\n",
        "for word in words:\n",
        "   isHard=False\n",
        "   vowCount=0\n",
        "   concCount=0\n",
        "   contConsonants=0\n",
        "   for ch in word:\n",
        "      if ch in \"aeiou\":\n",
        "         vowCount+=1\n",
        "         contConsonants=0\n",
        "      else:\n",
        "         concCount+=1\n",
        "         contConsonants+=1\n",
        "      if(contConsonants==3):\n",
        "         isHard=True\n",
        "         break\n",
        "   if(concCount>vowCount):\n",
        "        isHard=True\n",
        "   if(isHard):\n",
        "        hard+=1\n",
        "   else:\n",
        "        easy+=1\n",
        "print(easy)\n",
        "print(hard)\n",
        "diificulty_quotient=5*Hard-2*easy\n",
        "print(diificulty_quotient)"
      ],
      "metadata": {
        "colab": {
          "base_uri": "https://localhost:8080/",
          "height": 245
        },
        "id": "hVnsOYo-fmf9",
        "outputId": "8423b547-55e6-4149-c7ed-f24056360ea8"
      },
      "execution_count": 32,
      "outputs": [
        {
          "output_type": "stream",
          "name": "stdout",
          "text": [
            "we are good students\n",
            "3\n",
            "1\n"
          ]
        },
        {
          "output_type": "error",
          "ename": "NameError",
          "evalue": "name 'Hard' is not defined",
          "traceback": [
            "\u001b[0;31m---------------------------------------------------------------------------\u001b[0m",
            "\u001b[0;31mNameError\u001b[0m                                 Traceback (most recent call last)",
            "\u001b[0;32m<ipython-input-32-294b5f75074a>\u001b[0m in \u001b[0;36m<cell line: 28>\u001b[0;34m()\u001b[0m\n\u001b[1;32m     26\u001b[0m \u001b[0mprint\u001b[0m\u001b[0;34m(\u001b[0m\u001b[0measy\u001b[0m\u001b[0;34m)\u001b[0m\u001b[0;34m\u001b[0m\u001b[0;34m\u001b[0m\u001b[0m\n\u001b[1;32m     27\u001b[0m \u001b[0mprint\u001b[0m\u001b[0;34m(\u001b[0m\u001b[0mhard\u001b[0m\u001b[0;34m)\u001b[0m\u001b[0;34m\u001b[0m\u001b[0;34m\u001b[0m\u001b[0m\n\u001b[0;32m---> 28\u001b[0;31m \u001b[0mdiificulty_quotient\u001b[0m\u001b[0;34m=\u001b[0m\u001b[0;36m5\u001b[0m\u001b[0;34m*\u001b[0m\u001b[0mHard\u001b[0m\u001b[0;34m-\u001b[0m\u001b[0;36m2\u001b[0m\u001b[0;34m*\u001b[0m\u001b[0measy\u001b[0m\u001b[0;34m\u001b[0m\u001b[0;34m\u001b[0m\u001b[0m\n\u001b[0m\u001b[1;32m     29\u001b[0m \u001b[0mprint\u001b[0m\u001b[0;34m(\u001b[0m\u001b[0mdiificulty_quotient\u001b[0m\u001b[0;34m)\u001b[0m\u001b[0;34m\u001b[0m\u001b[0;34m\u001b[0m\u001b[0m\n",
            "\u001b[0;31mNameError\u001b[0m: name 'Hard' is not defined"
          ]
        }
      ]
    },
    {
      "cell_type": "code",
      "source": [],
      "metadata": {
        "id": "cwTDMrGCpYld"
      },
      "execution_count": null,
      "outputs": []
    },
    {
      "cell_type": "code",
      "source": [],
      "metadata": {
        "id": "ftdmB63BpZGE"
      },
      "execution_count": null,
      "outputs": []
    },
    {
      "cell_type": "code",
      "source": [],
      "metadata": {
        "id": "82NiBpcBpZrc"
      },
      "execution_count": null,
      "outputs": []
    },
    {
      "cell_type": "code",
      "source": [
        "marks=list(map(int,input().split()))\n",
        "fmax=marks[0]\n",
        "smax=marks[1]\n",
        "for value in marks:\n",
        "    if(value>fmax):\n",
        "        smax=fmax\n",
        "        fmax=value\n",
        "    elif value>smax and value<max:\n",
        "        smax=value\n",
        "print(fmax,smax)"
      ],
      "metadata": {
        "colab": {
          "base_uri": "https://localhost:8080/"
        },
        "id": "8bjHpDMXpZuO",
        "outputId": "0368e635-ddb9-48cc-d3e4-02b10425a84f"
      },
      "execution_count": 40,
      "outputs": [
        {
          "output_type": "stream",
          "name": "stdout",
          "text": [
            "1,2,3,4\n",
            "[1, 2, 3, 4]\n"
          ]
        }
      ]
    },
    {
      "cell_type": "code",
      "source": [],
      "metadata": {
        "id": "d7MSoaMhpZwp"
      },
      "execution_count": null,
      "outputs": []
    },
    {
      "cell_type": "code",
      "source": [
        "text=input()\n",
        "words=text.split()\n",
        "hard=0\n",
        "easy=0\n",
        "for word in words:\n",
        "   isHard=False\n",
        "   vowCount=0\n",
        "   concCount=0\n",
        "   contConsonants=0\n",
        "   for ch in word:\n",
        "      if ch in \"aeiou\":\n",
        "         vowCount+=1\n",
        "         contConsonants=0\n",
        "      else:\n",
        "         concCount+=1\n",
        "         contConsonants+=1\n",
        "      if(contConsonants==3):\n",
        "         isHard=True\n",
        "         break\n",
        "   if(concCount>vowCount):\n",
        "        isHard=True\n",
        "   if(isHard):\n",
        "        hard+=1\n",
        "   else:\n",
        "        easy+=1\n",
        "diificulty_quotient=5*hard-2*easy # Change 'Hard' to 'hard'\n",
        "print(diificulty_quotient)"
      ],
      "metadata": {
        "colab": {
          "base_uri": "https://localhost:8080/",
          "height": 373
        },
        "id": "PkNuKQoLo2vY",
        "outputId": "a52837af-f119-4a8d-e88d-d791b5fc8a33"
      },
      "execution_count": 35,
      "outputs": [
        {
          "output_type": "error",
          "ename": "KeyboardInterrupt",
          "evalue": "Interrupted by user",
          "traceback": [
            "\u001b[0;31m---------------------------------------------------------------------------\u001b[0m",
            "\u001b[0;31mKeyboardInterrupt\u001b[0m                         Traceback (most recent call last)",
            "\u001b[0;32m<ipython-input-35-77b2af540821>\u001b[0m in \u001b[0;36m<cell line: 1>\u001b[0;34m()\u001b[0m\n\u001b[0;32m----> 1\u001b[0;31m \u001b[0mtext\u001b[0m\u001b[0;34m=\u001b[0m\u001b[0minput\u001b[0m\u001b[0;34m(\u001b[0m\u001b[0;34m)\u001b[0m\u001b[0;34m\u001b[0m\u001b[0;34m\u001b[0m\u001b[0m\n\u001b[0m\u001b[1;32m      2\u001b[0m \u001b[0mwords\u001b[0m\u001b[0;34m=\u001b[0m\u001b[0mtext\u001b[0m\u001b[0;34m.\u001b[0m\u001b[0msplit\u001b[0m\u001b[0;34m(\u001b[0m\u001b[0;34m)\u001b[0m\u001b[0;34m\u001b[0m\u001b[0;34m\u001b[0m\u001b[0m\n\u001b[1;32m      3\u001b[0m \u001b[0mhard\u001b[0m\u001b[0;34m=\u001b[0m\u001b[0;36m0\u001b[0m\u001b[0;34m\u001b[0m\u001b[0;34m\u001b[0m\u001b[0m\n\u001b[1;32m      4\u001b[0m \u001b[0measy\u001b[0m\u001b[0;34m=\u001b[0m\u001b[0;36m0\u001b[0m\u001b[0;34m\u001b[0m\u001b[0;34m\u001b[0m\u001b[0m\n\u001b[1;32m      5\u001b[0m \u001b[0;32mfor\u001b[0m \u001b[0mword\u001b[0m \u001b[0;32min\u001b[0m \u001b[0mwords\u001b[0m\u001b[0;34m:\u001b[0m\u001b[0;34m\u001b[0m\u001b[0;34m\u001b[0m\u001b[0m\n",
            "\u001b[0;32m/usr/local/lib/python3.10/dist-packages/ipykernel/kernelbase.py\u001b[0m in \u001b[0;36mraw_input\u001b[0;34m(self, prompt)\u001b[0m\n\u001b[1;32m    849\u001b[0m                 \u001b[0;34m\"raw_input was called, but this frontend does not support input requests.\"\u001b[0m\u001b[0;34m\u001b[0m\u001b[0;34m\u001b[0m\u001b[0m\n\u001b[1;32m    850\u001b[0m             )\n\u001b[0;32m--> 851\u001b[0;31m         return self._input_request(str(prompt),\n\u001b[0m\u001b[1;32m    852\u001b[0m             \u001b[0mself\u001b[0m\u001b[0;34m.\u001b[0m\u001b[0m_parent_ident\u001b[0m\u001b[0;34m,\u001b[0m\u001b[0;34m\u001b[0m\u001b[0;34m\u001b[0m\u001b[0m\n\u001b[1;32m    853\u001b[0m             \u001b[0mself\u001b[0m\u001b[0;34m.\u001b[0m\u001b[0m_parent_header\u001b[0m\u001b[0;34m,\u001b[0m\u001b[0;34m\u001b[0m\u001b[0;34m\u001b[0m\u001b[0m\n",
            "\u001b[0;32m/usr/local/lib/python3.10/dist-packages/ipykernel/kernelbase.py\u001b[0m in \u001b[0;36m_input_request\u001b[0;34m(self, prompt, ident, parent, password)\u001b[0m\n\u001b[1;32m    893\u001b[0m             \u001b[0;32mexcept\u001b[0m \u001b[0mKeyboardInterrupt\u001b[0m\u001b[0;34m:\u001b[0m\u001b[0;34m\u001b[0m\u001b[0;34m\u001b[0m\u001b[0m\n\u001b[1;32m    894\u001b[0m                 \u001b[0;31m# re-raise KeyboardInterrupt, to truncate traceback\u001b[0m\u001b[0;34m\u001b[0m\u001b[0;34m\u001b[0m\u001b[0m\n\u001b[0;32m--> 895\u001b[0;31m                 \u001b[0;32mraise\u001b[0m \u001b[0mKeyboardInterrupt\u001b[0m\u001b[0;34m(\u001b[0m\u001b[0;34m\"Interrupted by user\"\u001b[0m\u001b[0;34m)\u001b[0m \u001b[0;32mfrom\u001b[0m \u001b[0;32mNone\u001b[0m\u001b[0;34m\u001b[0m\u001b[0;34m\u001b[0m\u001b[0m\n\u001b[0m\u001b[1;32m    896\u001b[0m             \u001b[0;32mexcept\u001b[0m \u001b[0mException\u001b[0m \u001b[0;32mas\u001b[0m \u001b[0me\u001b[0m\u001b[0;34m:\u001b[0m\u001b[0;34m\u001b[0m\u001b[0;34m\u001b[0m\u001b[0m\n\u001b[1;32m    897\u001b[0m                 \u001b[0mself\u001b[0m\u001b[0;34m.\u001b[0m\u001b[0mlog\u001b[0m\u001b[0;34m.\u001b[0m\u001b[0mwarning\u001b[0m\u001b[0;34m(\u001b[0m\u001b[0;34m\"Invalid Message:\"\u001b[0m\u001b[0;34m,\u001b[0m \u001b[0mexc_info\u001b[0m\u001b[0;34m=\u001b[0m\u001b[0;32mTrue\u001b[0m\u001b[0;34m)\u001b[0m\u001b[0;34m\u001b[0m\u001b[0;34m\u001b[0m\u001b[0m\n",
            "\u001b[0;31mKeyboardInterrupt\u001b[0m: Interrupted by user"
          ]
        }
      ]
    },
    {
      "cell_type": "code",
      "source": [
        "nums=list(map(int,input().split()))\n",
        "Sum=sum(nums)\n",
        "res=[]\n",
        "for i in range(len(nums)):\n",
        "    nums[i]=Sum-nums[i]\n",
        "print(res)\n"
      ],
      "metadata": {
        "id": "B3GvUm-WsrHT"
      },
      "execution_count": null,
      "outputs": []
    },
    {
      "cell_type": "code",
      "source": [
        "nums=map(list(int,input().split()))\n",
        "nums[0]=0\n",
        "for i in range(1,len(nums)):\n",
        "    nums[i]=sum(nums[:i])\n",
        "print(nums)"
      ],
      "metadata": {
        "id": "u314so7Ct7Ze"
      },
      "execution_count": null,
      "outputs": []
    }
  ]
}