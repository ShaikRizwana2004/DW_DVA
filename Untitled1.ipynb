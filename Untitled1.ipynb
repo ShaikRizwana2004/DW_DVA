{
  "nbformat": 4,
  "nbformat_minor": 0,
  "metadata": {
    "colab": {
      "provenance": [],
      "authorship_tag": "ABX9TyMD55P5htrKoe5PO83XBjDh",
      "include_colab_link": true
    },
    "kernelspec": {
      "name": "python3",
      "display_name": "Python 3"
    },
    "language_info": {
      "name": "python"
    }
  },
  "cells": [
    {
      "cell_type": "markdown",
      "metadata": {
        "id": "view-in-github",
        "colab_type": "text"
      },
      "source": [
        "<a href=\"https://colab.research.google.com/github/ShaikRizwana2004/DW_DVA/blob/main/Untitled1.ipynb\" target=\"_parent\"><img src=\"https://colab.research.google.com/assets/colab-badge.svg\" alt=\"Open In Colab\"/></a>"
      ]
    },
    {
      "cell_type": "code",
      "execution_count": 3,
      "metadata": {
        "colab": {
          "base_uri": "https://localhost:8080/"
        },
        "id": "PCCzUf61da6S",
        "outputId": "c9d349d9-8fce-48a0-8291-bcf52eafadc2"
      },
      "outputs": [
        {
          "output_type": "stream",
          "name": "stdout",
          "text": [
            "enter the wordabcdabc\n",
            "longest prefix and suffix is abc\n"
          ]
        }
      ],
      "source": [
        "#longesr prefix and suffix\n",
        "word=input(\"enter the word\")#abcdabc\n",
        "long_pre_suf=\"\"\n",
        "for i in range(1,len(word)//2+1):\n",
        "    prefix=word[:i]\n",
        "    if(word.endswith(prefix)):\n",
        "        long_pre_suf=prefix#abc\n",
        "print(\"longest prefix and suffix is\",long_pre_suf)"
      ]
    },
    {
      "cell_type": "code",
      "source": [
        "#longesr prefix and suffix\n",
        "word=input(\"enter the word\")#abcdabc\n",
        "long_pre_suf=\"\"\n",
        "for i in range(len(word)//2+1,0,-1):\n",
        "    prefix=word[:i]#ab\n",
        "    if(word.endswith(prefix)):\n",
        "        long_pre_suf=prefix#abc\n",
        "print(\"longest prefix and suffix is\",long_pre_suf)"
      ],
      "metadata": {
        "colab": {
          "base_uri": "https://localhost:8080/"
        },
        "id": "RQ-4oJHie0WE",
        "outputId": "e98a9451-d095-419c-d646-75a91f26bfd7"
      },
      "execution_count": 4,
      "outputs": [
        {
          "output_type": "stream",
          "name": "stdout",
          "text": [
            "enter the wordabcdabc\n",
            "longest prefix and suffix is abc\n"
          ]
        }
      ]
    }
  ]
}