{
  "nbformat": 4,
  "nbformat_minor": 0,
  "metadata": {
    "colab": {
      "provenance": [],
      "authorship_tag": "ABX9TyM7EbvlE+36usP18vNutJLD",
      "include_colab_link": true
    },
    "kernelspec": {
      "name": "python3",
      "display_name": "Python 3"
    },
    "language_info": {
      "name": "python"
    }
  },
  "cells": [
    {
      "cell_type": "markdown",
      "metadata": {
        "id": "view-in-github",
        "colab_type": "text"
      },
      "source": [
        "<a href=\"https://colab.research.google.com/github/ShaikRizwana2004/DW_DVA/blob/main/Untitled3.ipynb\" target=\"_parent\"><img src=\"https://colab.research.google.com/assets/colab-badge.svg\" alt=\"Open In Colab\"/></a>"
      ]
    },
    {
      "cell_type": "code",
      "execution_count": null,
      "metadata": {
        "id": "m4rEIAgMkamu"
      },
      "outputs": [],
      "source": [
        "n=int(input(\"enter no of parties\"))\n",
        "for i in range(n):\n",
        "   name=list(input(\"enter name\"))\n",
        "   votes=list(int(input(\"No of votes\")))\n",
        "   l1={name[i]:votes[i] for i in range(n)}\n",
        "print(l1[i] for i in range(n) if l1[i]==max(l1.values))\n",
        "winner=max(l1,key=l1.get)\n",
        "print(winner)\n",
        "\n",
        "\n",
        "\n",
        "\n",
        ""
      ]
    }
  ]
}