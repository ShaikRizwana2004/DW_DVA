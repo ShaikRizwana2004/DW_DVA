{
  "nbformat": 4,
  "nbformat_minor": 0,
  "metadata": {
    "colab": {
      "provenance": [],
      "authorship_tag": "ABX9TyNDspeQTGzNjkOu0ruAZ2ea",
      "include_colab_link": true
    },
    "kernelspec": {
      "name": "python3",
      "display_name": "Python 3"
    },
    "language_info": {
      "name": "python"
    }
  },
  "cells": [
    {
      "cell_type": "markdown",
      "metadata": {
        "id": "view-in-github",
        "colab_type": "text"
      },
      "source": [
        "<a href=\"https://colab.research.google.com/github/ShaikRizwana2004/DW_DVA/blob/main/Untitled4.ipynb\" target=\"_parent\"><img src=\"https://colab.research.google.com/assets/colab-badge.svg\" alt=\"Open In Colab\"/></a>"
      ]
    },
    {
      "cell_type": "code",
      "execution_count": 13,
      "metadata": {
        "colab": {
          "base_uri": "https://localhost:8080/"
        },
        "id": "UVbds2FV-ZE1",
        "outputId": "510d8e51-4184-4ad7-f9a5-32e4a2dbbf33"
      },
      "outputs": [
        {
          "output_type": "stream",
          "name": "stdout",
          "text": [
            "copy code by dell\n",
            "keyboard  code by Mac\n",
            "paste code by the hp\n"
          ]
        }
      ],
      "source": [
        "\"\"\"his is fully abstraction and it is an  interface\"\"\"\n",
        "\n",
        "from abc import ABC,abstractmethod\n",
        "class Laptop(ABC):\n",
        "   @abstractmethod\n",
        "   def copy(self):\n",
        "      pass\n",
        "   @abstractmethod\n",
        "   def paste(self):\n",
        "      pass\n",
        "   @abstractmethod\n",
        "   def keyboard(self):\n",
        "      pass\n",
        "class Dell(Laptop):\n",
        "  def copy(self):\n",
        "    print(\"copy code by dell\")\n",
        "  def paste(swelf):\n",
        "     print(\"paste code by the dell\")\n",
        "  def keyboard(self):\n",
        "    print(\"keyboard  code by Dell\")\n",
        "class Mac(Laptop):\n",
        "  def copy(self):\n",
        "    print(\"copy code by Mac\")\n",
        "  def paste(swelf):\n",
        "     print(\"paste code by the Mac\")\n",
        "  def keyboard(self):\n",
        "    print(\"keyboard  code by Mac\")\n",
        "class HP(Laptop):\n",
        "  def copy(self):\n",
        "    print(\"copy code by HP\")\n",
        "  def paste(swelf):\n",
        "     print(\"paste code by the hp\")\n",
        "  def keyboard(self):\n",
        "    print(\"keyboard  code by hp\")\n",
        "dell=Dell()\n",
        "dell.copy()\n",
        "mac=Mac()\n",
        "mac.keyboard()\n",
        "hp=HP()\n",
        "hp.paste()\n"
      ]
    },
    {
      "cell_type": "code",
      "source": [
        "from abc import ABC,abstractmethod\n",
        "#interface =====>only abstract methods===fully abstract\n",
        "class Laptop(ABC):\n",
        "   @abstractmethod\n",
        "   def copy(self):\n",
        "      pass\n",
        "   @abstractmethod\n",
        "   def paste(self):\n",
        "      pass\n",
        "   @abstractmethod\n",
        "   def keyboard(self):\n",
        "      pass\n",
        "#abstract class===>partial abstraction\n",
        "class ThirdPartyVendor(Laptop):\n",
        "  @abstractmethod\n",
        "  def copy(self):\n",
        "     pass\n",
        "  def capture(self):\n",
        "     print(\"captured by Thirdparty vendor\")\n",
        "  def security(self):\n",
        "     print(\"security features by third party vendor\")\n",
        "#class ===>zero abstraction\n",
        "class Dell(ThirdPartyVendor):\n",
        "  def copy(self):\n",
        "    print(\"copy code by dell\")\n",
        "  def paste(swelf):\n",
        "     print(\"paste code by the dell\")\n",
        "  def keyboard(self):\n",
        "    print(\"keyboard  code by Dell\")\n",
        "class Mac(ThirdPartyVendor):\n",
        "  def copy(self):\n",
        "    print(\"copy code by Mac\")\n",
        "  def paste(swelf):\n",
        "     print(\"paste code by the Mac\")\n",
        "  def keyboard(self):\n",
        "    print(\"keyboard  code by Mac\")\n",
        "class HP(ThirdPartyVendor):\n",
        "  def copy(self):\n",
        "    print(\"copy code by HP\")\n",
        "  def paste(swelf):\n",
        "     print(\"paste code by the hp\")\n",
        "  def keyboard(self):\n",
        "    print(\"keyboard  code by hp\")\n",
        "dell=Dell()\n",
        "dell.copy()\n",
        "dell.capture()\n",
        "dell.security()\n",
        "mac=Mac()\n",
        "mac.paste()\n",
        "mac.capture()\n",
        "mac.security()\n",
        "hp=HP()\n",
        "hp.paste()\n",
        "hp.capture()\n",
        "hp.security()"
      ],
      "metadata": {
        "colab": {
          "base_uri": "https://localhost:8080/"
        },
        "id": "IkH-K3OtF3hY",
        "outputId": "84cdf129-a6e0-4b05-e65b-34218679e83e"
      },
      "execution_count": 30,
      "outputs": [
        {
          "output_type": "stream",
          "name": "stdout",
          "text": [
            "copy code by dell\n",
            "captured by Thirdparty vendor\n",
            "security features by third party vendor\n",
            "paste code by the Mac\n",
            "captured by Thirdparty vendor\n",
            "security features by third party vendor\n",
            "paste code by the hp\n",
            "captured by Thirdparty vendor\n",
            "security features by third party vendor\n"
          ]
        }
      ]
    },
    {
      "cell_type": "code",
      "source": [
        "\n",
        "class Garage:\n",
        "   def __init__(self,bikes,cars,trucks):\n",
        "      self.bikes=bikes\n",
        "      self.cars=cars\n",
        "      self.trucks=trucks\n",
        "def maxRevenue(garages,m):\n",
        "   maxRev=0\n",
        "   g=0\n",
        "   for i,garage in enumerate(garages):\n",
        "      rev=garage.bikes*100+garage.cars*250+garage.trucks*500\n",
        "      if(rev>maxRev):\n",
        "          maxRev=rev\n",
        "          g=i+1\n",
        "   return g,maxRev\n",
        "n=int(input(\"no of garages\"))\n",
        "garages=[]\n",
        "for i in range(n):\n",
        "   bikes=int(input(\"no of bikes\"))\n",
        "   cars=int(input(\"no of cars\"))\n",
        "   trucks=int(input(\"no of trucks\"))\n",
        "   g=Garage(bikes,cars,trucks)\n",
        "   garages.append(g)\n",
        "print(maxRevenue(garages,len(garages)))"
      ],
      "metadata": {
        "colab": {
          "base_uri": "https://localhost:8080/"
        },
        "id": "XHQQOfKvISId",
        "outputId": "6c3014cc-7080-4dcf-e60d-348a070d67af"
      },
      "execution_count": 11,
      "outputs": [
        {
          "output_type": "stream",
          "name": "stdout",
          "text": [
            "no of garages2\n",
            "no of bikes2\n",
            "no of cars2\n",
            "no of trucks2\n",
            "no of bikes4\n",
            "no of cars5\n",
            "no of trucks6\n",
            "(2, 4650)\n"
          ]
        }
      ]
    },
    {
      "cell_type": "code",
      "source": [
        "n=int(input(\"no of garages\"))\n",
        "for i in range(n):\n",
        "   bikes=int(input(\"no of bikes\"))\n",
        "   cars=int(input(\"no of cars\"))\n",
        "   trucks=int(input(\"no of trucks\"))\n",
        "class Garage:\n",
        "   def __init__(self,bikes,cars,trucks):\n",
        "      self.bikes=bikes\n",
        "      self.cars=cars\n",
        "      self.trucks=trucks\n",
        "   def maxrev(self,lt):\n",
        "      l=[]\n",
        "      for i in lt:\n",
        "        # Only try to convert to integer if it's not already a list\n",
        "        if not isinstance(i, list):\n",
        "            l.append(int(i))\n",
        "      res=0\n",
        "      for i in l:\n",
        "         if i>res:  # Directly compare integers in the list\n",
        "            res=i\n",
        "      return res\n",
        "g=Garage(bikes,cars,trucks)\n",
        "Revenue=g.bikes*100+g.cars*250+g.trucks*500\n",
        "Revenue=str(Revenue)\n",
        "Revenue=list(Revenue)\n",
        "# Do not append the entire Revenue list to itself\n",
        "# Revenue.append(Revenue)\n",
        "print(g.maxrev(Revenue))"
      ],
      "metadata": {
        "colab": {
          "base_uri": "https://localhost:8080/"
        },
        "id": "ZaflS4Fycpum",
        "outputId": "8c9a5ef5-c9db-4c4f-cf81-c8b6f1ee1288"
      },
      "execution_count": 68,
      "outputs": [
        {
          "output_type": "stream",
          "name": "stdout",
          "text": [
            "no of garages2\n",
            "no of bikes1\n",
            "no of cars2\n",
            "no of trucks3\n",
            "no of bikes4\n",
            "no of cars5\n",
            "no of trucks6\n",
            "6\n"
          ]
        }
      ]
    },
    {
      "cell_type": "code",
      "source": [
        "import sys\n",
        "nums=[1,2,3,4,5]\n",
        "print(sys.getsizeof(nums))\n",
        "\n",
        "\n",
        "import array as ar\n",
        "arr=ar.array('i',[1,2,3,4,5])###4 bytes* len of array===takes leeser memory than list\n",
        "print(arr.itemsize*len(arr))"
      ],
      "metadata": {
        "colab": {
          "base_uri": "https://localhost:8080/"
        },
        "id": "-Qow-_5pi_iI",
        "outputId": "5b868a31-f6ad-41b9-a14d-2094d04e6817"
      },
      "execution_count": 27,
      "outputs": [
        {
          "output_type": "stream",
          "name": "stdout",
          "text": [
            "104\n",
            "20\n"
          ]
        }
      ]
    }
  ]
}