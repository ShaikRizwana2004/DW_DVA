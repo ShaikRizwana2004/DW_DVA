{
  "nbformat": 4,
  "nbformat_minor": 0,
  "metadata": {
    "colab": {
      "provenance": [],
      "authorship_tag": "ABX9TyMrj8RPg6GA2Wn6nXfaMw1T",
      "include_colab_link": true
    },
    "kernelspec": {
      "name": "python3",
      "display_name": "Python 3"
    },
    "language_info": {
      "name": "python"
    }
  },
  "cells": [
    {
      "cell_type": "markdown",
      "metadata": {
        "id": "view-in-github",
        "colab_type": "text"
      },
      "source": [
        "<a href=\"https://colab.research.google.com/github/ShaikRizwana2004/DW_DVA/blob/main/Untitled4.ipynb\" target=\"_parent\"><img src=\"https://colab.research.google.com/assets/colab-badge.svg\" alt=\"Open In Colab\"/></a>"
      ]
    },
    {
      "cell_type": "code",
      "execution_count": 13,
      "metadata": {
        "colab": {
          "base_uri": "https://localhost:8080/"
        },
        "id": "UVbds2FV-ZE1",
        "outputId": "510d8e51-4184-4ad7-f9a5-32e4a2dbbf33"
      },
      "outputs": [
        {
          "output_type": "stream",
          "name": "stdout",
          "text": [
            "copy code by dell\n",
            "keyboard  code by Mac\n",
            "paste code by the hp\n"
          ]
        }
      ],
      "source": [
        "\"\"\"his is fully abstraction and it is an  interface\"\"\"\n",
        "\n",
        "from abc import ABC,abstractmethod\n",
        "class Laptop(ABC):\n",
        "   @abstractmethod\n",
        "   def copy(self):\n",
        "      pass\n",
        "   @abstractmethod\n",
        "   def paste(self):\n",
        "      pass\n",
        "   @abstractmethod\n",
        "   def keyboard(self):\n",
        "      pass\n",
        "class Dell(Laptop):\n",
        "  def copy(self):\n",
        "    print(\"copy code by dell\")\n",
        "  def paste(swelf):\n",
        "     print(\"paste code by the dell\")\n",
        "  def keyboard(self):\n",
        "    print(\"keyboard  code by Dell\")\n",
        "class Mac(Laptop):\n",
        "  def copy(self):\n",
        "    print(\"copy code by Mac\")\n",
        "  def paste(swelf):\n",
        "     print(\"paste code by the Mac\")\n",
        "  def keyboard(self):\n",
        "    print(\"keyboard  code by Mac\")\n",
        "class HP(Laptop):\n",
        "  def copy(self):\n",
        "    print(\"copy code by HP\")\n",
        "  def paste(swelf):\n",
        "     print(\"paste code by the hp\")\n",
        "  def keyboard(self):\n",
        "    print(\"keyboard  code by hp\")\n",
        "dell=Dell()\n",
        "dell.copy()\n",
        "mac=Mac()\n",
        "mac.keyboard()\n",
        "hp=HP()\n",
        "hp.paste()\n"
      ]
    },
    {
      "cell_type": "code",
      "source": [
        "from abc import ABC,abstractmethod\n",
        "#interface =====>only abstract methods===fully abstract\n",
        "class Laptop(ABC):\n",
        "   @abstractmethod\n",
        "   def copy(self):\n",
        "      pass\n",
        "   @abstractmethod\n",
        "   def paste(self):\n",
        "      pass\n",
        "   @abstractmethod\n",
        "   def keyboard(self):\n",
        "      pass\n",
        "#abstract class===>partial abstraction\n",
        "class ThirdPartyVendor(Laptop):\n",
        "  @abstractmethod\n",
        "  def copy(self):\n",
        "     pass\n",
        "  def capture(self):\n",
        "     print(\"captured by Thirdparty vendor\")\n",
        "  def security(self):\n",
        "     print(\"security features by third party vendor\")\n",
        "#class ===>zero abstraction\n",
        "class Dell(ThirdPartyVendor):\n",
        "  def copy(self):\n",
        "    print(\"copy code by dell\")\n",
        "  def paste(swelf):\n",
        "     print(\"paste code by the dell\")\n",
        "  def keyboard(self):\n",
        "    print(\"keyboard  code by Dell\")\n",
        "class Mac(ThirdPartyVendor):\n",
        "  def copy(self):\n",
        "    print(\"copy code by Mac\")\n",
        "  def paste(swelf):\n",
        "     print(\"paste code by the Mac\")\n",
        "  def keyboard(self):\n",
        "    print(\"keyboard  code by Mac\")\n",
        "class HP(ThirdPartyVendor):\n",
        "  def copy(self):\n",
        "    print(\"copy code by HP\")\n",
        "  def paste(swelf):\n",
        "     print(\"paste code by the hp\")\n",
        "  def keyboard(self):\n",
        "    print(\"keyboard  code by hp\")\n",
        "dell=Dell()\n",
        "dell.copy()\n",
        "dell.capture()\n",
        "dell.security()\n",
        "mac=Mac()\n",
        "mac.paste()\n",
        "mac.capture()\n",
        "mac.security()\n",
        "hp=HP()\n",
        "hp.paste()\n",
        "hp.capture()\n",
        "hp.security()"
      ],
      "metadata": {
        "colab": {
          "base_uri": "https://localhost:8080/"
        },
        "id": "IkH-K3OtF3hY",
        "outputId": "84cdf129-a6e0-4b05-e65b-34218679e83e"
      },
      "execution_count": 30,
      "outputs": [
        {
          "output_type": "stream",
          "name": "stdout",
          "text": [
            "copy code by dell\n",
            "captured by Thirdparty vendor\n",
            "security features by third party vendor\n",
            "paste code by the Mac\n",
            "captured by Thirdparty vendor\n",
            "security features by third party vendor\n",
            "paste code by the hp\n",
            "captured by Thirdparty vendor\n",
            "security features by third party vendor\n"
          ]
        }
      ]
    },
    {
      "cell_type": "code",
      "source": [],
      "metadata": {
        "id": "XHQQOfKvISId"
      },
      "execution_count": null,
      "outputs": []
    }
  ]
}